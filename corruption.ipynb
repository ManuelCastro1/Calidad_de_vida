{
 "cells": [
  {
   "cell_type": "code",
   "execution_count": 1,
   "id": "arctic-joseph",
   "metadata": {},
   "outputs": [],
   "source": [
    "import pandas as pd\n",
    "import numpy as np\n",
    "import plotly.graph_objects as go\n",
    "import plotly.express as px\n",
    "import math"
   ]
  },
  {
   "cell_type": "code",
   "execution_count": 12,
   "id": "filled-attendance",
   "metadata": {},
   "outputs": [
    {
     "data": {
      "application/vnd.plotly.v1+json": {
       "config": {
        "plotlyServerURL": "https://plot.ly"
       },
       "data": [
        {
         "mode": "markers",
         "name": "Country",
         "showlegend": false,
         "text": [
          "Australia",
          "Hong Kong",
          "Switzerland",
          "Luxembourg",
          "Malta",
          "Singapore",
          "Spain",
          "New Zealand",
          "Germany",
          "Portugal",
          "United States",
          "Japan",
          "Norway",
          "France",
          "Cyprus",
          "Austria",
          "Sweden",
          "Netherlands",
          "Canada",
          "South Korea",
          "Finland",
          "United Arab Emirates",
          "Denmark",
          "Croatia",
          "Israel",
          "Italy",
          "Slovenia",
          "Greece",
          "Iceland",
          "Qatar",
          "Poland",
          "Uruguay",
          "Belgium",
          "United Kingdom",
          "Estonia",
          "Bulgaria",
          "Ireland",
          "Mauritius",
          "Hungary",
          "Barbados",
          "Botswana",
          "Lithuania",
          "Chile",
          "Saudi Arabia",
          "Oman",
          "Bahrain",
          "Romania",
          "Latvia",
          "Argentina",
          "Malaysia",
          "Samoa",
          "Georgia",
          "Kuwait",
          "Seychelles",
          "China",
          "Thailand",
          "Costa Rica",
          "Bosnia and Herzegovina",
          "Maldives",
          "Peru",
          "Paraguay",
          "Sri Lanka",
          "Morocco",
          "Tunisia",
          "Ecuador",
          "Kazakhstan",
          "Armenia",
          "Albania",
          "Mongolia",
          "Jordan",
          "Tonga",
          "Vietnam",
          "Turkey",
          "Mexico",
          "Algeria",
          "South Africa",
          "Bolivia",
          "Russia",
          "Indonesia",
          "Azerbaijan",
          "Moldova",
          "Rwanda",
          "India",
          "Dominican Republic",
          "Trinidad and Tobago",
          "Belarus",
          "Uzbekistan",
          "Timor-Leste",
          "Ghana",
          "Kenya",
          "Jamaica",
          "Nepal",
          "Egypt",
          "Lebanon",
          "Tanzania",
          "Ukraine",
          "Brazil",
          "Laos",
          "Cambodia",
          "Pakistan",
          "Philippines",
          "Malawi",
          "Colombia",
          "Uganda",
          "Guatemala",
          "Honduras",
          "El Salvador",
          "Belize",
          "Zambia",
          "Tajikistan",
          "Iran",
          "Ethiopia",
          "Burundi",
          "Mozambique",
          "Togo",
          "Nicaragua",
          "Zimbabwe",
          "Sierra Leone",
          "Burma",
          "Equatorial Guinea",
          "Angola",
          "Afghanistan",
          "Cameroon",
          "Nigeria",
          "Sudan"
         ],
         "type": "scatter",
         "x": [
          81,
          89.8,
          81.5,
          75.9,
          67.7,
          88.6,
          63.6,
          83.7,
          73.8,
          62.6,
          75.1,
          69.6,
          74,
          63.3,
          67.9,
          72.3,
          74.9,
          75.8,
          78.5,
          74.3,
          74,
          76.9,
          75.1,
          59.4,
          69.7,
          62.5,
          59.2,
          55,
          74.4,
          73.1,
          68.3,
          69.7,
          67.8,
          76.4,
          79.1,
          67.9,
          76.7,
          74.7,
          65.8,
          54.5,
          70.1,
          75.8,
          76.5,
          64.4,
          62.1,
          68.5,
          69.7,
          74.8,
          50.4,
          73.8,
          58.4,
          76,
          65.1,
          61.8,
          57.4,
          66.2,
          65,
          60.2,
          50.3,
          68.9,
          62.4,
          57.4,
          61.5,
          55.7,
          49.3,
          69,
          70.3,
          64.4,
          54.8,
          66.7,
          63,
          52.4,
          65.2,
          63.6,
          46.5,
          62.3,
          47.7,
          57.1,
          61.9,
          63.6,
          58,
          67.6,
          52.6,
          62.9,
          61.2,
          58.6,
          52.3,
          46.3,
          56.2,
          53.5,
          69.5,
          55.1,
          52.6,
          53.3,
          58.6,
          48.1,
          52.9,
          54,
          59.5,
          52.8,
          65.6,
          52.2,
          69.7,
          60.9,
          63,
          58.8,
          64.1,
          58.6,
          55.8,
          58.2,
          50.5,
          52.7,
          53.2,
          49.9,
          53.2,
          59.2,
          44,
          52.6,
          52.5,
          45,
          48.5,
          48.9,
          51.8,
          57.1,
          48.8
         ],
         "y": [
          79,
          75,
          74,
          73,
          73,
          73,
          72,
          72,
          71,
          71,
          71,
          70,
          70,
          70,
          70,
          70,
          70,
          70,
          70,
          70,
          69,
          69,
          68,
          68,
          67,
          66,
          66,
          65,
          65,
          65,
          65,
          65,
          65,
          64,
          64,
          63,
          63,
          63,
          63,
          63,
          63,
          62,
          62,
          61,
          61,
          60,
          60,
          60,
          59,
          59,
          58,
          58,
          58,
          57,
          57,
          57,
          57,
          56,
          56,
          56,
          55,
          55,
          55,
          55,
          55,
          54,
          54,
          54,
          54,
          53,
          53,
          53,
          53,
          52,
          52,
          52,
          52,
          51,
          51,
          50,
          50,
          50,
          50,
          50,
          50,
          50,
          50,
          49,
          48,
          48,
          48,
          48,
          48,
          48,
          48,
          48,
          47,
          47,
          46,
          46,
          46,
          45,
          45,
          45,
          45,
          44,
          44,
          44,
          44,
          44,
          43,
          43,
          43,
          42,
          41,
          40,
          40,
          39,
          39,
          37,
          36,
          35,
          33,
          30,
          29
         ]
        },
        {
         "hoverlabel": {
          "namelength": 0
         },
         "hovertemplate": "<b>OLS trendline</b><br>quality_fixed = 0.816632 * freedomscore + 4.208823<br>R<sup>2</sup>=0.547872<br><br>freedomscore=%{x}<br>quality_fixed=%{y} <b>(trend)</b>",
         "legendgroup": "",
         "marker": {
          "color": "#FA636E",
          "symbol": "circle"
         },
         "mode": "lines",
         "name": "",
         "showlegend": false,
         "type": "scatter",
         "x": [
          44,
          45,
          46.3,
          46.5,
          47.7,
          48.1,
          48.5,
          48.8,
          48.9,
          49.3,
          49.9,
          50.3,
          50.4,
          50.5,
          51.8,
          52.2,
          52.3,
          52.4,
          52.5,
          52.6,
          52.6,
          52.6,
          52.7,
          52.8,
          52.9,
          53.2,
          53.2,
          53.3,
          53.5,
          54,
          54.5,
          54.8,
          55,
          55.1,
          55.7,
          55.8,
          56.2,
          57.1,
          57.1,
          57.4,
          57.4,
          58,
          58.2,
          58.4,
          58.6,
          58.6,
          58.6,
          58.8,
          59.2,
          59.2,
          59.4,
          59.5,
          60.2,
          60.9,
          61.2,
          61.5,
          61.8,
          61.9,
          62.1,
          62.3,
          62.4,
          62.5,
          62.6,
          62.9,
          63,
          63,
          63.3,
          63.6,
          63.6,
          63.6,
          64.1,
          64.4,
          64.4,
          65,
          65.1,
          65.2,
          65.6,
          65.8,
          66.2,
          66.7,
          67.6,
          67.7,
          67.8,
          67.9,
          67.9,
          68.3,
          68.5,
          68.9,
          69,
          69.5,
          69.6,
          69.7,
          69.7,
          69.7,
          69.7,
          70.1,
          70.3,
          72.3,
          73.1,
          73.8,
          73.8,
          74,
          74,
          74.3,
          74.4,
          74.7,
          74.8,
          74.9,
          75.1,
          75.1,
          75.8,
          75.8,
          75.9,
          76,
          76.4,
          76.5,
          76.7,
          76.9,
          78.5,
          79.1,
          81,
          81.5,
          83.7,
          88.6,
          89.8
         ],
         "xaxis": "x",
         "y": [
          40.140624196054766,
          40.95725604722814,
          42.01887745375353,
          42.18220382398821,
          43.16216204539627,
          43.48881478586562,
          43.81546752633497,
          44.060457081686984,
          44.14212026680432,
          44.46877300727367,
          44.958752117977696,
          45.28540485844705,
          45.36706804356439,
          45.44873122868173,
          46.51035263520712,
          46.837005375676476,
          46.918668560793805,
          47.00033174591115,
          47.08199493102848,
          47.163658116145825,
          47.163658116145825,
          47.163658116145825,
          47.24532130126316,
          47.326984486380496,
          47.40864767149783,
          47.65363722684985,
          47.65363722684985,
          47.73530041196719,
          47.898626782201866,
          48.30694270778855,
          48.71525863337524,
          48.960248188727256,
          49.123574558961934,
          49.20523774407927,
          49.6952168547833,
          49.77688003990063,
          50.10353278036999,
          50.83850144642603,
          50.83850144642603,
          51.08349100177804,
          51.08349100177804,
          51.57347011248207,
          51.73679648271675,
          51.90012285295142,
          52.0634492231861,
          52.0634492231861,
          52.0634492231861,
          52.22677559342077,
          52.553428333890125,
          52.553428333890125,
          52.716754704124796,
          52.79841788924214,
          53.3700601850635,
          53.941702480884864,
          54.186692036236884,
          54.43168159158889,
          54.676671146940905,
          54.75833433205825,
          54.921660702292925,
          55.084987072527596,
          55.16665025764493,
          55.248313442762274,
          55.32997662787961,
          55.57496618323162,
          55.65662936834896,
          55.65662936834896,
          55.90161892370097,
          56.14660847905299,
          56.14660847905299,
          56.14660847905299,
          56.55492440463967,
          56.7999139599917,
          56.7999139599917,
          57.28989307069572,
          57.371556255813054,
          57.4532194409304,
          57.77987218139974,
          57.94319855163442,
          58.26985129210377,
          58.678167217690465,
          59.4131358837465,
          59.49479906886384,
          59.57646225398118,
          59.65812543909852,
          59.65812543909852,
          59.98477817956787,
          60.14810454980255,
          60.4747572902719,
          60.55642047538923,
          60.96473640097592,
          61.04639958609326,
          61.1280627712106,
          61.1280627712106,
          61.1280627712106,
          61.1280627712106,
          61.45471551167994,
          61.61804188191462,
          63.25130558426138,
          63.904611065200086,
          64.47625336102145,
          64.47625336102145,
          64.63957973125613,
          64.63957973125613,
          64.88456928660814,
          64.96623247172549,
          65.2112220270775,
          65.29288521219483,
          65.37454839731217,
          65.53787476754684,
          65.53787476754684,
          66.1095170633682,
          66.1095170633682,
          66.19118024848555,
          66.27284343360289,
          66.59949617407224,
          66.68115935918958,
          66.84448572942425,
          67.00781209965893,
          68.31442306153633,
          68.80440217224036,
          70.35600268946978,
          70.76431861505647,
          72.5609086876379,
          76.56240475838746,
          77.54236297979551
         ],
         "yaxis": "y"
        }
       ],
       "layout": {
        "autosize": true,
        "template": {
         "data": {
          "bar": [
           {
            "error_x": {
             "color": "#2a3f5f"
            },
            "error_y": {
             "color": "#2a3f5f"
            },
            "marker": {
             "line": {
              "color": "#E5ECF6",
              "width": 0.5
             }
            },
            "type": "bar"
           }
          ],
          "barpolar": [
           {
            "marker": {
             "line": {
              "color": "#E5ECF6",
              "width": 0.5
             }
            },
            "type": "barpolar"
           }
          ],
          "carpet": [
           {
            "aaxis": {
             "endlinecolor": "#2a3f5f",
             "gridcolor": "white",
             "linecolor": "white",
             "minorgridcolor": "white",
             "startlinecolor": "#2a3f5f"
            },
            "baxis": {
             "endlinecolor": "#2a3f5f",
             "gridcolor": "white",
             "linecolor": "white",
             "minorgridcolor": "white",
             "startlinecolor": "#2a3f5f"
            },
            "type": "carpet"
           }
          ],
          "choropleth": [
           {
            "colorbar": {
             "outlinewidth": 0,
             "ticks": ""
            },
            "type": "choropleth"
           }
          ],
          "contour": [
           {
            "colorbar": {
             "outlinewidth": 0,
             "ticks": ""
            },
            "colorscale": [
             [
              0,
              "#0d0887"
             ],
             [
              0.1111111111111111,
              "#46039f"
             ],
             [
              0.2222222222222222,
              "#7201a8"
             ],
             [
              0.3333333333333333,
              "#9c179e"
             ],
             [
              0.4444444444444444,
              "#bd3786"
             ],
             [
              0.5555555555555556,
              "#d8576b"
             ],
             [
              0.6666666666666666,
              "#ed7953"
             ],
             [
              0.7777777777777778,
              "#fb9f3a"
             ],
             [
              0.8888888888888888,
              "#fdca26"
             ],
             [
              1,
              "#f0f921"
             ]
            ],
            "type": "contour"
           }
          ],
          "contourcarpet": [
           {
            "colorbar": {
             "outlinewidth": 0,
             "ticks": ""
            },
            "type": "contourcarpet"
           }
          ],
          "heatmap": [
           {
            "colorbar": {
             "outlinewidth": 0,
             "ticks": ""
            },
            "colorscale": [
             [
              0,
              "#0d0887"
             ],
             [
              0.1111111111111111,
              "#46039f"
             ],
             [
              0.2222222222222222,
              "#7201a8"
             ],
             [
              0.3333333333333333,
              "#9c179e"
             ],
             [
              0.4444444444444444,
              "#bd3786"
             ],
             [
              0.5555555555555556,
              "#d8576b"
             ],
             [
              0.6666666666666666,
              "#ed7953"
             ],
             [
              0.7777777777777778,
              "#fb9f3a"
             ],
             [
              0.8888888888888888,
              "#fdca26"
             ],
             [
              1,
              "#f0f921"
             ]
            ],
            "type": "heatmap"
           }
          ],
          "heatmapgl": [
           {
            "colorbar": {
             "outlinewidth": 0,
             "ticks": ""
            },
            "colorscale": [
             [
              0,
              "#0d0887"
             ],
             [
              0.1111111111111111,
              "#46039f"
             ],
             [
              0.2222222222222222,
              "#7201a8"
             ],
             [
              0.3333333333333333,
              "#9c179e"
             ],
             [
              0.4444444444444444,
              "#bd3786"
             ],
             [
              0.5555555555555556,
              "#d8576b"
             ],
             [
              0.6666666666666666,
              "#ed7953"
             ],
             [
              0.7777777777777778,
              "#fb9f3a"
             ],
             [
              0.8888888888888888,
              "#fdca26"
             ],
             [
              1,
              "#f0f921"
             ]
            ],
            "type": "heatmapgl"
           }
          ],
          "histogram": [
           {
            "marker": {
             "colorbar": {
              "outlinewidth": 0,
              "ticks": ""
             }
            },
            "type": "histogram"
           }
          ],
          "histogram2d": [
           {
            "colorbar": {
             "outlinewidth": 0,
             "ticks": ""
            },
            "colorscale": [
             [
              0,
              "#0d0887"
             ],
             [
              0.1111111111111111,
              "#46039f"
             ],
             [
              0.2222222222222222,
              "#7201a8"
             ],
             [
              0.3333333333333333,
              "#9c179e"
             ],
             [
              0.4444444444444444,
              "#bd3786"
             ],
             [
              0.5555555555555556,
              "#d8576b"
             ],
             [
              0.6666666666666666,
              "#ed7953"
             ],
             [
              0.7777777777777778,
              "#fb9f3a"
             ],
             [
              0.8888888888888888,
              "#fdca26"
             ],
             [
              1,
              "#f0f921"
             ]
            ],
            "type": "histogram2d"
           }
          ],
          "histogram2dcontour": [
           {
            "colorbar": {
             "outlinewidth": 0,
             "ticks": ""
            },
            "colorscale": [
             [
              0,
              "#0d0887"
             ],
             [
              0.1111111111111111,
              "#46039f"
             ],
             [
              0.2222222222222222,
              "#7201a8"
             ],
             [
              0.3333333333333333,
              "#9c179e"
             ],
             [
              0.4444444444444444,
              "#bd3786"
             ],
             [
              0.5555555555555556,
              "#d8576b"
             ],
             [
              0.6666666666666666,
              "#ed7953"
             ],
             [
              0.7777777777777778,
              "#fb9f3a"
             ],
             [
              0.8888888888888888,
              "#fdca26"
             ],
             [
              1,
              "#f0f921"
             ]
            ],
            "type": "histogram2dcontour"
           }
          ],
          "mesh3d": [
           {
            "colorbar": {
             "outlinewidth": 0,
             "ticks": ""
            },
            "type": "mesh3d"
           }
          ],
          "parcoords": [
           {
            "line": {
             "colorbar": {
              "outlinewidth": 0,
              "ticks": ""
             }
            },
            "type": "parcoords"
           }
          ],
          "scatter": [
           {
            "marker": {
             "colorbar": {
              "outlinewidth": 0,
              "ticks": ""
             }
            },
            "type": "scatter"
           }
          ],
          "scatter3d": [
           {
            "line": {
             "colorbar": {
              "outlinewidth": 0,
              "ticks": ""
             }
            },
            "marker": {
             "colorbar": {
              "outlinewidth": 0,
              "ticks": ""
             }
            },
            "type": "scatter3d"
           }
          ],
          "scattercarpet": [
           {
            "marker": {
             "colorbar": {
              "outlinewidth": 0,
              "ticks": ""
             }
            },
            "type": "scattercarpet"
           }
          ],
          "scattergeo": [
           {
            "marker": {
             "colorbar": {
              "outlinewidth": 0,
              "ticks": ""
             }
            },
            "type": "scattergeo"
           }
          ],
          "scattergl": [
           {
            "marker": {
             "colorbar": {
              "outlinewidth": 0,
              "ticks": ""
             }
            },
            "type": "scattergl"
           }
          ],
          "scattermapbox": [
           {
            "marker": {
             "colorbar": {
              "outlinewidth": 0,
              "ticks": ""
             }
            },
            "type": "scattermapbox"
           }
          ],
          "scatterpolar": [
           {
            "marker": {
             "colorbar": {
              "outlinewidth": 0,
              "ticks": ""
             }
            },
            "type": "scatterpolar"
           }
          ],
          "scatterpolargl": [
           {
            "marker": {
             "colorbar": {
              "outlinewidth": 0,
              "ticks": ""
             }
            },
            "type": "scatterpolargl"
           }
          ],
          "scatterternary": [
           {
            "marker": {
             "colorbar": {
              "outlinewidth": 0,
              "ticks": ""
             }
            },
            "type": "scatterternary"
           }
          ],
          "surface": [
           {
            "colorbar": {
             "outlinewidth": 0,
             "ticks": ""
            },
            "colorscale": [
             [
              0,
              "#0d0887"
             ],
             [
              0.1111111111111111,
              "#46039f"
             ],
             [
              0.2222222222222222,
              "#7201a8"
             ],
             [
              0.3333333333333333,
              "#9c179e"
             ],
             [
              0.4444444444444444,
              "#bd3786"
             ],
             [
              0.5555555555555556,
              "#d8576b"
             ],
             [
              0.6666666666666666,
              "#ed7953"
             ],
             [
              0.7777777777777778,
              "#fb9f3a"
             ],
             [
              0.8888888888888888,
              "#fdca26"
             ],
             [
              1,
              "#f0f921"
             ]
            ],
            "type": "surface"
           }
          ],
          "table": [
           {
            "cells": {
             "fill": {
              "color": "#EBF0F8"
             },
             "line": {
              "color": "white"
             }
            },
            "header": {
             "fill": {
              "color": "#C8D4E3"
             },
             "line": {
              "color": "white"
             }
            },
            "type": "table"
           }
          ]
         },
         "layout": {
          "annotationdefaults": {
           "arrowcolor": "#2a3f5f",
           "arrowhead": 0,
           "arrowwidth": 1
          },
          "colorscale": {
           "diverging": [
            [
             0,
             "#8e0152"
            ],
            [
             0.1,
             "#c51b7d"
            ],
            [
             0.2,
             "#de77ae"
            ],
            [
             0.3,
             "#f1b6da"
            ],
            [
             0.4,
             "#fde0ef"
            ],
            [
             0.5,
             "#f7f7f7"
            ],
            [
             0.6,
             "#e6f5d0"
            ],
            [
             0.7,
             "#b8e186"
            ],
            [
             0.8,
             "#7fbc41"
            ],
            [
             0.9,
             "#4d9221"
            ],
            [
             1,
             "#276419"
            ]
           ],
           "sequential": [
            [
             0,
             "#0d0887"
            ],
            [
             0.1111111111111111,
             "#46039f"
            ],
            [
             0.2222222222222222,
             "#7201a8"
            ],
            [
             0.3333333333333333,
             "#9c179e"
            ],
            [
             0.4444444444444444,
             "#bd3786"
            ],
            [
             0.5555555555555556,
             "#d8576b"
            ],
            [
             0.6666666666666666,
             "#ed7953"
            ],
            [
             0.7777777777777778,
             "#fb9f3a"
            ],
            [
             0.8888888888888888,
             "#fdca26"
            ],
            [
             1,
             "#f0f921"
            ]
           ],
           "sequentialminus": [
            [
             0,
             "#0d0887"
            ],
            [
             0.1111111111111111,
             "#46039f"
            ],
            [
             0.2222222222222222,
             "#7201a8"
            ],
            [
             0.3333333333333333,
             "#9c179e"
            ],
            [
             0.4444444444444444,
             "#bd3786"
            ],
            [
             0.5555555555555556,
             "#d8576b"
            ],
            [
             0.6666666666666666,
             "#ed7953"
            ],
            [
             0.7777777777777778,
             "#fb9f3a"
            ],
            [
             0.8888888888888888,
             "#fdca26"
            ],
            [
             1,
             "#f0f921"
            ]
           ]
          },
          "colorway": [
           "#636efa",
           "#EF553B",
           "#00cc96",
           "#ab63fa",
           "#FFA15A",
           "#19d3f3",
           "#FF6692",
           "#B6E880",
           "#FF97FF",
           "#FECB52"
          ],
          "font": {
           "color": "#2a3f5f"
          },
          "geo": {
           "bgcolor": "white",
           "lakecolor": "white",
           "landcolor": "#E5ECF6",
           "showlakes": true,
           "showland": true,
           "subunitcolor": "white"
          },
          "hoverlabel": {
           "align": "left"
          },
          "hovermode": "closest",
          "mapbox": {
           "style": "light"
          },
          "paper_bgcolor": "white",
          "plot_bgcolor": "#E5ECF6",
          "polar": {
           "angularaxis": {
            "gridcolor": "white",
            "linecolor": "white",
            "ticks": ""
           },
           "bgcolor": "#E5ECF6",
           "radialaxis": {
            "gridcolor": "white",
            "linecolor": "white",
            "ticks": ""
           }
          },
          "scene": {
           "xaxis": {
            "backgroundcolor": "#E5ECF6",
            "gridcolor": "white",
            "gridwidth": 2,
            "linecolor": "white",
            "showbackground": true,
            "ticks": "",
            "zerolinecolor": "white"
           },
           "yaxis": {
            "backgroundcolor": "#E5ECF6",
            "gridcolor": "white",
            "gridwidth": 2,
            "linecolor": "white",
            "showbackground": true,
            "ticks": "",
            "zerolinecolor": "white"
           },
           "zaxis": {
            "backgroundcolor": "#E5ECF6",
            "gridcolor": "white",
            "gridwidth": 2,
            "linecolor": "white",
            "showbackground": true,
            "ticks": "",
            "zerolinecolor": "white"
           }
          },
          "shapedefaults": {
           "line": {
            "color": "#2a3f5f"
           }
          },
          "ternary": {
           "aaxis": {
            "gridcolor": "white",
            "linecolor": "white",
            "ticks": ""
           },
           "baxis": {
            "gridcolor": "white",
            "linecolor": "white",
            "ticks": ""
           },
           "bgcolor": "#E5ECF6",
           "caxis": {
            "gridcolor": "white",
            "linecolor": "white",
            "ticks": ""
           }
          },
          "title": {
           "x": 0.05
          },
          "xaxis": {
           "automargin": true,
           "gridcolor": "white",
           "linecolor": "white",
           "ticks": "",
           "zerolinecolor": "white",
           "zerolinewidth": 2
          },
          "yaxis": {
           "automargin": true,
           "gridcolor": "white",
           "linecolor": "white",
           "ticks": "",
           "zerolinecolor": "white",
           "zerolinewidth": 2
          }
         }
        },
        "xaxis": {
         "autorange": true,
         "range": [
          41.24408244680851,
          92.55591755319149
         ],
         "title": {
          "text": "Economical Freedom Index"
         },
         "type": "linear"
        },
        "yaxis": {
         "autorange": true,
         "range": [
          25.337579617834393,
          82.6624203821656
         ],
         "title": {
          "text": "Quality of Life Index"
         },
         "type": "linear"
        }
       }
      },
      "image/png": "[encoded data removed]",
      "text/html": [
       "<div>\n",
       "        \n",
       "        \n",
       "            <div id=\"177786c3-8014-4aad-a32f-6d6b975dd51a\" class=\"plotly-graph-div\" style=\"height:525px; width:100%;\"></div>\n",
       "            <script type=\"text/javascript\">\n",
       "                require([\"plotly\"], function(Plotly) {\n",
       "                    window.PLOTLYENV=window.PLOTLYENV || {};\n",
       "                    \n",
       "                if (document.getElementById(\"177786c3-8014-4aad-a32f-6d6b975dd51a\")) {\n",
       "                    Plotly.newPlot(\n",
       "                        '177786c3-8014-4aad-a32f-6d6b975dd51a',\n",
       "                        [{\"mode\": \"markers\", \"name\": \"Country\", \"showlegend\": false, \"text\": [\"Australia\", \"Hong Kong\", \"Switzerland\", \"Luxembourg\", \"Malta\", \"Singapore\", \"Spain\", \"New Zealand\", \"Germany\", \"Portugal\", \"United States\", \"Japan\", \"Norway\", \"France\", \"Cyprus\", \"Austria\", \"Sweden\", \"Netherlands\", \"Canada\", \"South Korea\", \"Finland\", \"United Arab Emirates\", \"Denmark\", \"Croatia\", \"Israel\", \"Italy\", \"Slovenia\", \"Greece\", \"Iceland\", \"Qatar\", \"Poland\", \"Uruguay\", \"Belgium\", \"United Kingdom\", \"Estonia\", \"Bulgaria\", \"Ireland\", \"Mauritius\", \"Hungary\", \"Barbados\", \"Botswana\", \"Lithuania\", \"Chile\", \"Saudi Arabia\", \"Oman\", \"Bahrain\", \"Romania\", \"Latvia\", \"Argentina\", \"Malaysia\", \"Samoa\", \"Georgia\", \"Kuwait\", \"Seychelles\", \"China\", \"Thailand\", \"Costa Rica\", \"Bosnia and Herzegovina\", \"Maldives\", \"Peru\", \"Paraguay\", \"Sri Lanka\", \"Morocco\", \"Tunisia\", \"Ecuador\", \"Kazakhstan\", \"Armenia\", \"Albania\", \"Mongolia\", \"Jordan\", \"Tonga\", \"Vietnam\", \"Turkey\", \"Mexico\", \"Algeria\", \"South Africa\", \"Bolivia\", \"Russia\", \"Indonesia\", \"Azerbaijan\", \"Moldova\", \"Rwanda\", \"India\", \"Dominican Republic\", \"Trinidad and Tobago\", \"Belarus\", \"Uzbekistan\", \"Timor-Leste\", \"Ghana\", \"Kenya\", \"Jamaica\", \"Nepal\", \"Egypt\", \"Lebanon\", \"Tanzania\", \"Ukraine\", \"Brazil\", \"Laos\", \"Cambodia\", \"Pakistan\", \"Philippines\", \"Malawi\", \"Colombia\", \"Uganda\", \"Guatemala\", \"Honduras\", \"El Salvador\", \"Belize\", \"Zambia\", \"Tajikistan\", \"Iran\", \"Ethiopia\", \"Burundi\", \"Mozambique\", \"Togo\", \"Nicaragua\", \"Zimbabwe\", \"Sierra Leone\", \"Burma\", \"Equatorial Guinea\", \"Angola\", \"Afghanistan\", \"Cameroon\", \"Nigeria\", \"Sudan\"], \"type\": \"scatter\", \"x\": [81.0, 89.8, 81.5, 75.9, 67.7, 88.6, 63.6, 83.7, 73.8, 62.6, 75.1, 69.6, 74.0, 63.3, 67.9, 72.3, 74.9, 75.8, 78.5, 74.3, 74.0, 76.9, 75.1, 59.4, 69.7, 62.5, 59.2, 55.0, 74.4, 73.1, 68.3, 69.7, 67.8, 76.4, 79.1, 67.9, 76.7, 74.7, 65.8, 54.5, 70.1, 75.8, 76.5, 64.4, 62.1, 68.5, 69.7, 74.8, 50.4, 73.8, 58.4, 76.0, 65.1, 61.8, 57.4, 66.2, 65.0, 60.2, 50.3, 68.9, 62.4, 57.4, 61.5, 55.7, 49.3, 69.0, 70.3, 64.4, 54.8, 66.7, 63.0, 52.4, 65.2, 63.6, 46.5, 62.3, 47.7, 57.1, 61.9, 63.6, 58.0, 67.6, 52.6, 62.9, 61.2, 58.6, 52.3, 46.3, 56.2, 53.5, 69.5, 55.1, 52.6, 53.3, 58.6, 48.1, 52.9, 54.0, 59.5, 52.8, 65.6, 52.2, 69.7, 60.9, 63.0, 58.8, 64.1, 58.6, 55.8, 58.2, 50.5, 52.7, 53.2, 49.9, 53.2, 59.2, 44.0, 52.6, 52.5, 45.0, 48.5, 48.9, 51.8, 57.1, 48.8], \"y\": [79, 75, 74, 73, 73, 73, 72, 72, 71, 71, 71, 70, 70, 70, 70, 70, 70, 70, 70, 70, 69, 69, 68, 68, 67, 66, 66, 65, 65, 65, 65, 65, 65, 64, 64, 63, 63, 63, 63, 63, 63, 62, 62, 61, 61, 60, 60, 60, 59, 59, 58, 58, 58, 57, 57, 57, 57, 56, 56, 56, 55, 55, 55, 55, 55, 54, 54, 54, 54, 53, 53, 53, 53, 52, 52, 52, 52, 51, 51, 50, 50, 50, 50, 50, 50, 50, 50, 49, 48, 48, 48, 48, 48, 48, 48, 48, 47, 47, 46, 46, 46, 45, 45, 45, 45, 44, 44, 44, 44, 44, 43, 43, 43, 42, 41, 40, 40, 39, 39, 37, 36, 35, 33, 30, 29]}, {\"hoverlabel\": {\"namelength\": 0}, \"hovertemplate\": \"<b>OLS trendline</b><br>quality_fixed = 0.816632 * freedomscore + 4.208823<br>R<sup>2</sup>=0.547872<br><br>freedomscore=%{x}<br>quality_fixed=%{y} <b>(trend)</b>\", \"legendgroup\": \"\", \"marker\": {\"color\": \"#FA636E\", \"symbol\": \"circle\"}, \"mode\": \"lines\", \"name\": \"\", \"showlegend\": false, \"type\": \"scatter\", \"x\": [44.0, 45.0, 46.3, 46.5, 47.7, 48.1, 48.5, 48.8, 48.9, 49.3, 49.9, 50.3, 50.4, 50.5, 51.8, 52.2, 52.3, 52.4, 52.5, 52.6, 52.6, 52.6, 52.7, 52.8, 52.9, 53.2, 53.2, 53.3, 53.5, 54.0, 54.5, 54.8, 55.0, 55.1, 55.7, 55.8, 56.2, 57.1, 57.1, 57.4, 57.4, 58.0, 58.2, 58.4, 58.6, 58.6, 58.6, 58.8, 59.2, 59.2, 59.4, 59.5, 60.2, 60.9, 61.2, 61.5, 61.8, 61.9, 62.1, 62.3, 62.4, 62.5, 62.6, 62.9, 63.0, 63.0, 63.3, 63.6, 63.6, 63.6, 64.1, 64.4, 64.4, 65.0, 65.1, 65.2, 65.6, 65.8, 66.2, 66.7, 67.6, 67.7, 67.8, 67.9, 67.9, 68.3, 68.5, 68.9, 69.0, 69.5, 69.6, 69.7, 69.7, 69.7, 69.7, 70.1, 70.3, 72.3, 73.1, 73.8, 73.8, 74.0, 74.0, 74.3, 74.4, 74.7, 74.8, 74.9, 75.1, 75.1, 75.8, 75.8, 75.9, 76.0, 76.4, 76.5, 76.7, 76.9, 78.5, 79.1, 81.0, 81.5, 83.7, 88.6, 89.8], \"xaxis\": \"x\", \"y\": [40.140624196054766, 40.95725604722814, 42.01887745375353, 42.18220382398821, 43.16216204539627, 43.48881478586562, 43.81546752633497, 44.060457081686984, 44.14212026680432, 44.46877300727367, 44.958752117977696, 45.28540485844705, 45.36706804356439, 45.44873122868173, 46.51035263520712, 46.837005375676476, 46.918668560793805, 47.00033174591115, 47.08199493102848, 47.163658116145825, 47.163658116145825, 47.163658116145825, 47.24532130126316, 47.326984486380496, 47.40864767149783, 47.65363722684985, 47.65363722684985, 47.73530041196719, 47.898626782201866, 48.30694270778855, 48.71525863337524, 48.960248188727256, 49.123574558961934, 49.20523774407927, 49.6952168547833, 49.77688003990063, 50.10353278036999, 50.83850144642603, 50.83850144642603, 51.08349100177804, 51.08349100177804, 51.57347011248207, 51.73679648271675, 51.90012285295142, 52.0634492231861, 52.0634492231861, 52.0634492231861, 52.22677559342077, 52.553428333890125, 52.553428333890125, 52.716754704124796, 52.79841788924214, 53.3700601850635, 53.941702480884864, 54.186692036236884, 54.43168159158889, 54.676671146940905, 54.75833433205825, 54.921660702292925, 55.084987072527596, 55.16665025764493, 55.248313442762274, 55.32997662787961, 55.57496618323162, 55.65662936834896, 55.65662936834896, 55.90161892370097, 56.14660847905299, 56.14660847905299, 56.14660847905299, 56.55492440463967, 56.7999139599917, 56.7999139599917, 57.28989307069572, 57.371556255813054, 57.4532194409304, 57.77987218139974, 57.94319855163442, 58.26985129210377, 58.678167217690465, 59.4131358837465, 59.49479906886384, 59.57646225398118, 59.65812543909852, 59.65812543909852, 59.98477817956787, 60.14810454980255, 60.4747572902719, 60.55642047538923, 60.96473640097592, 61.04639958609326, 61.1280627712106, 61.1280627712106, 61.1280627712106, 61.1280627712106, 61.45471551167994, 61.61804188191462, 63.25130558426138, 63.904611065200086, 64.47625336102145, 64.47625336102145, 64.63957973125613, 64.63957973125613, 64.88456928660814, 64.96623247172549, 65.2112220270775, 65.29288521219483, 65.37454839731217, 65.53787476754684, 65.53787476754684, 66.1095170633682, 66.1095170633682, 66.19118024848555, 66.27284343360289, 66.59949617407224, 66.68115935918958, 66.84448572942425, 67.00781209965893, 68.31442306153633, 68.80440217224036, 70.35600268946978, 70.76431861505647, 72.5609086876379, 76.56240475838746, 77.54236297979551], \"yaxis\": \"y\"}],\n",
       "                        {\"template\": {\"data\": {\"bar\": [{\"error_x\": {\"color\": \"#2a3f5f\"}, \"error_y\": {\"color\": \"#2a3f5f\"}, \"marker\": {\"line\": {\"color\": \"#E5ECF6\", \"width\": 0.5}}, \"type\": \"bar\"}], \"barpolar\": [{\"marker\": {\"line\": {\"color\": \"#E5ECF6\", \"width\": 0.5}}, \"type\": \"barpolar\"}], \"carpet\": [{\"aaxis\": {\"endlinecolor\": \"#2a3f5f\", \"gridcolor\": \"white\", \"linecolor\": \"white\", \"minorgridcolor\": \"white\", \"startlinecolor\": \"#2a3f5f\"}, \"baxis\": {\"endlinecolor\": \"#2a3f5f\", \"gridcolor\": \"white\", \"linecolor\": \"white\", \"minorgridcolor\": \"white\", \"startlinecolor\": \"#2a3f5f\"}, \"type\": \"carpet\"}], \"choropleth\": [{\"colorbar\": {\"outlinewidth\": 0, \"ticks\": \"\"}, \"type\": \"choropleth\"}], \"contour\": [{\"colorbar\": {\"outlinewidth\": 0, \"ticks\": \"\"}, \"colorscale\": [[0.0, \"#0d0887\"], [0.1111111111111111, \"#46039f\"], [0.2222222222222222, \"#7201a8\"], [0.3333333333333333, \"#9c179e\"], [0.4444444444444444, \"#bd3786\"], [0.5555555555555556, \"#d8576b\"], [0.6666666666666666, \"#ed7953\"], [0.7777777777777778, \"#fb9f3a\"], [0.8888888888888888, \"#fdca26\"], [1.0, \"#f0f921\"]], \"type\": \"contour\"}], \"contourcarpet\": [{\"colorbar\": {\"outlinewidth\": 0, \"ticks\": \"\"}, \"type\": \"contourcarpet\"}], \"heatmap\": [{\"colorbar\": {\"outlinewidth\": 0, \"ticks\": \"\"}, \"colorscale\": [[0.0, \"#0d0887\"], [0.1111111111111111, \"#46039f\"], [0.2222222222222222, \"#7201a8\"], [0.3333333333333333, \"#9c179e\"], [0.4444444444444444, \"#bd3786\"], [0.5555555555555556, \"#d8576b\"], [0.6666666666666666, \"#ed7953\"], [0.7777777777777778, \"#fb9f3a\"], [0.8888888888888888, \"#fdca26\"], [1.0, \"#f0f921\"]], \"type\": \"heatmap\"}], \"heatmapgl\": [{\"colorbar\": {\"outlinewidth\": 0, \"ticks\": \"\"}, \"colorscale\": [[0.0, \"#0d0887\"], [0.1111111111111111, \"#46039f\"], [0.2222222222222222, \"#7201a8\"], [0.3333333333333333, \"#9c179e\"], [0.4444444444444444, \"#bd3786\"], [0.5555555555555556, \"#d8576b\"], [0.6666666666666666, \"#ed7953\"], [0.7777777777777778, \"#fb9f3a\"], [0.8888888888888888, \"#fdca26\"], [1.0, \"#f0f921\"]], \"type\": \"heatmapgl\"}], \"histogram\": [{\"marker\": {\"colorbar\": {\"outlinewidth\": 0, \"ticks\": \"\"}}, \"type\": \"histogram\"}], \"histogram2d\": [{\"colorbar\": {\"outlinewidth\": 0, \"ticks\": \"\"}, \"colorscale\": [[0.0, \"#0d0887\"], [0.1111111111111111, \"#46039f\"], [0.2222222222222222, \"#7201a8\"], [0.3333333333333333, \"#9c179e\"], [0.4444444444444444, \"#bd3786\"], [0.5555555555555556, \"#d8576b\"], [0.6666666666666666, \"#ed7953\"], [0.7777777777777778, \"#fb9f3a\"], [0.8888888888888888, \"#fdca26\"], [1.0, \"#f0f921\"]], \"type\": \"histogram2d\"}], \"histogram2dcontour\": [{\"colorbar\": {\"outlinewidth\": 0, \"ticks\": \"\"}, \"colorscale\": [[0.0, \"#0d0887\"], [0.1111111111111111, \"#46039f\"], [0.2222222222222222, \"#7201a8\"], [0.3333333333333333, \"#9c179e\"], [0.4444444444444444, \"#bd3786\"], [0.5555555555555556, \"#d8576b\"], [0.6666666666666666, \"#ed7953\"], [0.7777777777777778, \"#fb9f3a\"], [0.8888888888888888, \"#fdca26\"], [1.0, \"#f0f921\"]], \"type\": \"histogram2dcontour\"}], \"mesh3d\": [{\"colorbar\": {\"outlinewidth\": 0, \"ticks\": \"\"}, \"type\": \"mesh3d\"}], \"parcoords\": [{\"line\": {\"colorbar\": {\"outlinewidth\": 0, \"ticks\": \"\"}}, \"type\": \"parcoords\"}], \"scatter\": [{\"marker\": {\"colorbar\": {\"outlinewidth\": 0, \"ticks\": \"\"}}, \"type\": \"scatter\"}], \"scatter3d\": [{\"line\": {\"colorbar\": {\"outlinewidth\": 0, \"ticks\": \"\"}}, \"marker\": {\"colorbar\": {\"outlinewidth\": 0, \"ticks\": \"\"}}, \"type\": \"scatter3d\"}], \"scattercarpet\": [{\"marker\": {\"colorbar\": {\"outlinewidth\": 0, \"ticks\": \"\"}}, \"type\": \"scattercarpet\"}], \"scattergeo\": [{\"marker\": {\"colorbar\": {\"outlinewidth\": 0, \"ticks\": \"\"}}, \"type\": \"scattergeo\"}], \"scattergl\": [{\"marker\": {\"colorbar\": {\"outlinewidth\": 0, \"ticks\": \"\"}}, \"type\": \"scattergl\"}], \"scattermapbox\": [{\"marker\": {\"colorbar\": {\"outlinewidth\": 0, \"ticks\": \"\"}}, \"type\": \"scattermapbox\"}], \"scatterpolar\": [{\"marker\": {\"colorbar\": {\"outlinewidth\": 0, \"ticks\": \"\"}}, \"type\": \"scatterpolar\"}], \"scatterpolargl\": [{\"marker\": {\"colorbar\": {\"outlinewidth\": 0, \"ticks\": \"\"}}, \"type\": \"scatterpolargl\"}], \"scatterternary\": [{\"marker\": {\"colorbar\": {\"outlinewidth\": 0, \"ticks\": \"\"}}, \"type\": \"scatterternary\"}], \"surface\": [{\"colorbar\": {\"outlinewidth\": 0, \"ticks\": \"\"}, \"colorscale\": [[0.0, \"#0d0887\"], [0.1111111111111111, \"#46039f\"], [0.2222222222222222, \"#7201a8\"], [0.3333333333333333, \"#9c179e\"], [0.4444444444444444, \"#bd3786\"], [0.5555555555555556, \"#d8576b\"], [0.6666666666666666, \"#ed7953\"], [0.7777777777777778, \"#fb9f3a\"], [0.8888888888888888, \"#fdca26\"], [1.0, \"#f0f921\"]], \"type\": \"surface\"}], \"table\": [{\"cells\": {\"fill\": {\"color\": \"#EBF0F8\"}, \"line\": {\"color\": \"white\"}}, \"header\": {\"fill\": {\"color\": \"#C8D4E3\"}, \"line\": {\"color\": \"white\"}}, \"type\": \"table\"}]}, \"layout\": {\"annotationdefaults\": {\"arrowcolor\": \"#2a3f5f\", \"arrowhead\": 0, \"arrowwidth\": 1}, \"colorscale\": {\"diverging\": [[0, \"#8e0152\"], [0.1, \"#c51b7d\"], [0.2, \"#de77ae\"], [0.3, \"#f1b6da\"], [0.4, \"#fde0ef\"], [0.5, \"#f7f7f7\"], [0.6, \"#e6f5d0\"], [0.7, \"#b8e186\"], [0.8, \"#7fbc41\"], [0.9, \"#4d9221\"], [1, \"#276419\"]], \"sequential\": [[0.0, \"#0d0887\"], [0.1111111111111111, \"#46039f\"], [0.2222222222222222, \"#7201a8\"], [0.3333333333333333, \"#9c179e\"], [0.4444444444444444, \"#bd3786\"], [0.5555555555555556, \"#d8576b\"], [0.6666666666666666, \"#ed7953\"], [0.7777777777777778, \"#fb9f3a\"], [0.8888888888888888, \"#fdca26\"], [1.0, \"#f0f921\"]], \"sequentialminus\": [[0.0, \"#0d0887\"], [0.1111111111111111, \"#46039f\"], [0.2222222222222222, \"#7201a8\"], [0.3333333333333333, \"#9c179e\"], [0.4444444444444444, \"#bd3786\"], [0.5555555555555556, \"#d8576b\"], [0.6666666666666666, \"#ed7953\"], [0.7777777777777778, \"#fb9f3a\"], [0.8888888888888888, \"#fdca26\"], [1.0, \"#f0f921\"]]}, \"colorway\": [\"#636efa\", \"#EF553B\", \"#00cc96\", \"#ab63fa\", \"#FFA15A\", \"#19d3f3\", \"#FF6692\", \"#B6E880\", \"#FF97FF\", \"#FECB52\"], \"font\": {\"color\": \"#2a3f5f\"}, \"geo\": {\"bgcolor\": \"white\", \"lakecolor\": \"white\", \"landcolor\": \"#E5ECF6\", \"showlakes\": true, \"showland\": true, \"subunitcolor\": \"white\"}, \"hoverlabel\": {\"align\": \"left\"}, \"hovermode\": \"closest\", \"mapbox\": {\"style\": \"light\"}, \"paper_bgcolor\": \"white\", \"plot_bgcolor\": \"#E5ECF6\", \"polar\": {\"angularaxis\": {\"gridcolor\": \"white\", \"linecolor\": \"white\", \"ticks\": \"\"}, \"bgcolor\": \"#E5ECF6\", \"radialaxis\": {\"gridcolor\": \"white\", \"linecolor\": \"white\", \"ticks\": \"\"}}, \"scene\": {\"xaxis\": {\"backgroundcolor\": \"#E5ECF6\", \"gridcolor\": \"white\", \"gridwidth\": 2, \"linecolor\": \"white\", \"showbackground\": true, \"ticks\": \"\", \"zerolinecolor\": \"white\"}, \"yaxis\": {\"backgroundcolor\": \"#E5ECF6\", \"gridcolor\": \"white\", \"gridwidth\": 2, \"linecolor\": \"white\", \"showbackground\": true, \"ticks\": \"\", \"zerolinecolor\": \"white\"}, \"zaxis\": {\"backgroundcolor\": \"#E5ECF6\", \"gridcolor\": \"white\", \"gridwidth\": 2, \"linecolor\": \"white\", \"showbackground\": true, \"ticks\": \"\", \"zerolinecolor\": \"white\"}}, \"shapedefaults\": {\"line\": {\"color\": \"#2a3f5f\"}}, \"ternary\": {\"aaxis\": {\"gridcolor\": \"white\", \"linecolor\": \"white\", \"ticks\": \"\"}, \"baxis\": {\"gridcolor\": \"white\", \"linecolor\": \"white\", \"ticks\": \"\"}, \"bgcolor\": \"#E5ECF6\", \"caxis\": {\"gridcolor\": \"white\", \"linecolor\": \"white\", \"ticks\": \"\"}}, \"title\": {\"x\": 0.05}, \"xaxis\": {\"automargin\": true, \"gridcolor\": \"white\", \"linecolor\": \"white\", \"ticks\": \"\", \"zerolinecolor\": \"white\", \"zerolinewidth\": 2}, \"yaxis\": {\"automargin\": true, \"gridcolor\": \"white\", \"linecolor\": \"white\", \"ticks\": \"\", \"zerolinecolor\": \"white\", \"zerolinewidth\": 2}}}, \"xaxis\": {\"title\": {\"text\": \"Economical Freedom Index\"}}, \"yaxis\": {\"title\": {\"text\": \"Quality of Life Index\"}}},\n",
       "                        {\"responsive\": true}\n",
       "                    ).then(function(){\n",
       "                            \n",
       "var gd = document.getElementById('177786c3-8014-4aad-a32f-6d6b975dd51a');\n",
       "var x = new MutationObserver(function (mutations, observer) {{\n",
       "        var display = window.getComputedStyle(gd).display;\n",
       "        if (!display || display === 'none') {{\n",
       "            console.log([gd, 'removed!']);\n",
       "            Plotly.purge(gd);\n",
       "            observer.disconnect();\n",
       "        }}\n",
       "}});\n",
       "\n",
       "// Listen for the removal of the full notebook cells\n",
       "var notebookContainer = gd.closest('#notebook-container');\n",
       "if (notebookContainer) {{\n",
       "    x.observe(notebookContainer, {childList: true});\n",
       "}}\n",
       "\n",
       "// Listen for the clearing of the current output cell\n",
       "var outputEl = gd.closest('.output');\n",
       "if (outputEl) {{\n",
       "    x.observe(outputEl, {childList: true});\n",
       "}}\n",
       "\n",
       "                        })\n",
       "                };\n",
       "                });\n",
       "            </script>\n",
       "        </div>"
      ]
     },
     "metadata": {},
     "output_type": "display_data"
    }
   ],
   "source": [
    "data = pd.read_csv(\"data.csv\")\n",
    "overallscore = data[\"Overall Score\"].values #libertadeconomica\n",
    "\n",
    "quality = pd.read_excel('corrupcion.xlsx', sheet_name='Quality of life')\n",
    "quality_total = quality[\"Total\"].values\n",
    "\n",
    "countries = quality[\"Country\"].values\n",
    "\n",
    "quality_fixed = []\n",
    "countrynames = []\n",
    "freedomscore = []\n",
    "\n",
    "a = 0\n",
    "while a < len(quality_total):\n",
    "    \n",
    "    name = countries[a]\n",
    "   \n",
    "    \n",
    "    j = 0 \n",
    "    while j < len(overallscore):\n",
    "        \n",
    "        pais = data[\"Name\"].values[j]       \n",
    "        if pais == name and math.isnan(quality_total[a]) == False and math.isnan(overallscore[j]) == False:\n",
    "            \n",
    "            countrynames.append(name)\n",
    "            quality_fixed.append(quality_total[a])\n",
    "            freedomscore.append(overallscore[j])\n",
    "            \n",
    "        \n",
    "        \n",
    "        j = j + 1\n",
    "  \n",
    "    a = a + 1\n",
    "    \n",
    "newdataframe = pd.DataFrame(freedomscore,columns =['freedomscore'])\n",
    "newdataframe[\"quality_fixed\"] = quality_fixed\n",
    "\n",
    "newdataframe.dropna()\n",
    "\n",
    "fig = go.Figure()\n",
    "\n",
    "trendline = px.scatter(newdataframe, x = \"freedomscore\", y = \"quality_fixed\", trendline=\"ols\")\n",
    "\n",
    "fig.add_trace(go.Scatter(x = freedomscore, y = quality_fixed, mode=\"markers\", text = countrynames, name=\"Country\", showlegend=False))\n",
    "fig.update_xaxes(title=\"Economical Freedom Index\")\n",
    "fig.update_yaxes(title=\"Quality of Life Index\")\n",
    "\n",
    "trend = trendline.data[1]\n",
    "trend[\"marker\"][\"color\"] = \"#FA636E\"\n",
    "fig.add_trace(trend)\n",
    "\n",
    "fig.show()\n",
    "\n",
    "\n",
    "\n"
   ]
  },
  {
   "cell_type": "code",
   "execution_count": 6,
   "id": "earlier-implement",
   "metadata": {},
   "outputs": [
    {
     "data": {
      "text/plain": [
       "array([88, 88, 85, 85, 85, 85, 84, 82, 80, 80, 77, 77, 77, 77, 76, 76, 75,\n",
       "       75, 74, 72, 71, 71, 69, 68, 67, 67, 66, 65, 64, 63, 63, 62, 61, 61,\n",
       "       60, 60, 60, 60, 60, 59, 58, 57, 57, 57, 56, 56, 56, 55, 54, 54, 54,\n",
       "       53, 53, 53, 53, 53, 51, 51, 50, 49, 49, 49, 47, 47, 47, 47, 45, 45,\n",
       "       44, 44, 44, 44, 44, 44, 43, 43, 43, 42, 42, 42, 42, 42, 41, 41, 41,\n",
       "       40, 40, 40, 40, 40, 40, 39, 39, 38, 38, 38, 38, 38, 38, 38, 38, 37,\n",
       "       37, 36, 36, 36, 36, 36, 36, 36, 35, 35, 35, 35, 34, 34, 33, 33, 33,\n",
       "       33, 33, 33, 32, 31, 31, 31, 31, 31, 30, 30, 30, 30, 30, 29, 29, 29,\n",
       "       28, 28, 28, 28, 28, 27, 27, 27, 27, 26, 26, 26, 25, 25, 25, 25, 25,\n",
       "       25, 25, 25, 24, 24, 22, 21, 21, 21, 21, 21, 19, 19, 19, 19, 19, 18,\n",
       "       18, 18, 17, 16, 16, 15, 15, 14, 12, 12])"
      ]
     },
     "execution_count": 6,
     "metadata": {},
     "output_type": "execute_result"
    }
   ],
   "source": [
    "corruptiondata = pd.read_excel('corrupcion.xlsx', sheet_name='2012–2020 Corruption Perception')\n",
    "corruption_total = corruptiondata[\"2020\"].values\n",
    "corruption_total"
   ]
  },
  {
   "cell_type": "code",
   "execution_count": null,
   "id": "casual-semiconductor",
   "metadata": {},
   "outputs": [],
   "source": []
  }
 ],
 "metadata": {
  "kernelspec": {
   "display_name": "Python 3",
   "language": "python",
   "name": "python3"
  },
  "language_info": {
   "codemirror_mode": {
    "name": "ipython",
    "version": 3
   },
   "file_extension": ".py",
   "mimetype": "text/x-python",
   "name": "python",
   "nbconvert_exporter": "python",
   "pygments_lexer": "ipython3",
   "version": "3.8.5"
  }
 },
 "nbformat": 4,
 "nbformat_minor": 5
}
